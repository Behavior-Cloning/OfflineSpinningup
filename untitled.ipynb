{
 "cells": [
  {
   "cell_type": "code",
   "execution_count": 1,
   "metadata": {},
   "outputs": [
    {
     "name": "stdout",
     "output_type": "stream",
     "text": [
      "0.2\n",
      "Parameter containing:\n",
      "tensor(0.2000, requires_grad=True)\n"
     ]
    },
    {
     "data": {
      "text/plain": [
       "tensor([0.0789, 0.1022, 0.0195, 0.1991, 0.1768, 0.1571, 0.0396, 0.0992, 0.0417,\n",
       "        0.0542, 0.1067, 0.1812, 0.1911, 0.1962, 0.1838, 0.1974, 0.0796, 0.0062,\n",
       "        0.1932, 0.1639], grad_fn=<MulBackward0>)"
      ]
     },
     "execution_count": 1,
     "metadata": {},
     "output_type": "execute_result"
    }
   ],
   "source": [
    "import torch\n",
    "from torch import nn\n",
    "import torch.nn.functional as F\n",
    "\n",
    "x=0.2\n",
    "alpha=nn.Parameter(torch.tensor(x))\n",
    "print(x)\n",
    "print(alpha)\n",
    "a=torch.rand((20,))\n",
    "a*alpha"
   ]
  },
  {
   "cell_type": "code",
   "execution_count": 7,
   "metadata": {},
   "outputs": [
    {
     "data": {
      "text/plain": [
       "tensor(0.2000)"
      ]
     },
     "execution_count": 7,
     "metadata": {},
     "output_type": "execute_result"
    }
   ],
   "source": [
    "alpha.requires_grad_(True)\n",
    "alpha.detach()"
   ]
  },
  {
   "cell_type": "code",
   "execution_count": 8,
   "metadata": {},
   "outputs": [
    {
     "data": {
      "text/plain": [
       "Parameter containing:\n",
       "tensor(0.2000, requires_grad=True)"
      ]
     },
     "execution_count": 8,
     "metadata": {},
     "output_type": "execute_result"
    }
   ],
   "source": [
    "alpha"
   ]
  },
  {
   "cell_type": "code",
   "execution_count": 8,
   "metadata": {},
   "outputs": [
    {
     "name": "stdout",
     "output_type": "stream",
     "text": [
      "[1. 2. 2. 3.]\n",
      "[[[[-0.1335079  -1.35953875  0.54616897]\n",
      "   [-0.72139008  0.75872474  0.53718693]\n",
      "   [-0.25511652  1.08238281 -0.01279691]]\n",
      "\n",
      "  [[-0.54853295  1.75295886 -0.50873816]\n",
      "   [-0.34983625  0.02599776  0.54567722]\n",
      "   [-1.64849815  0.65831194  2.00854251]]\n",
      "\n",
      "  [[-2.58663386  0.72287974 -0.15450058]\n",
      "   [-0.04687692 -0.57640064  0.29297401]\n",
      "   [ 0.30703513 -0.30229504 -0.24965975]]]\n",
      "\n",
      "\n",
      " [[[-0.17553065 -0.24352046  0.6241009 ]\n",
      "   [ 1.58243134  0.95198343  0.11906759]\n",
      "   [ 0.41901388 -1.04627376  0.50490608]]\n",
      "\n",
      "  [[-0.05192862  0.28259778  2.04976959]\n",
      "   [-0.38811732 -2.13575636  0.62320311]\n",
      "   [-1.50263835  0.82760591  0.53973344]]\n",
      "\n",
      "  [[ 0.53933397 -0.55034593 -0.80430878]\n",
      "   [ 0.98932106 -1.25138354 -0.931607  ]\n",
      "   [ 1.4825574  -0.42004309 -0.63021982]]]\n",
      "\n",
      "\n",
      " [[[ 0.64915621  0.86298151  0.68909116]\n",
      "   [ 0.71482712  0.22641268  0.64312366]\n",
      "   [ 0.16917421  0.38645366  0.01757507]]\n",
      "\n",
      "  [[ 0.78803691  0.51645061  0.2478174 ]\n",
      "   [ 0.74965489  0.8300157   0.86341226]\n",
      "   [ 0.57225112  0.34953672  0.87760598]]\n",
      "\n",
      "  [[ 0.08568786  0.97000885  0.76302005]\n",
      "   [ 0.92017747  0.41151228  0.98683952]\n",
      "   [ 0.90547505  0.25029564  0.64942145]]]]\n",
      "0.21338870395776602\n",
      "0.8425388613488494\n",
      "2.0497695899602033\n",
      "-2.586633860709755\n"
     ]
    }
   ],
   "source": [
    "import numpy as np\n",
    "a=[1,2,2,3.0]\n",
    "print(np.array(a))\n",
    "a=[np.random.randn(3,3,3),np.random.randn(3,3,3),np.random.rand(3,3,3)]\n",
    "print(np.array(a))\n",
    "a=np.array(a)\n",
    "print(a.mean())\n",
    "print(a.std())\n",
    "print(a.max())\n",
    "print(a.min())"
   ]
  },
  {
   "cell_type": "code",
   "execution_count": 10,
   "metadata": {},
   "outputs": [
    {
     "name": "stdout",
     "output_type": "stream",
     "text": [
      "d:\\my_py_lib\\OfflineSpinningup\n"
     ]
    },
    {
     "ename": "TypeError",
     "evalue": "dirname() missing 1 required positional argument: 'p'",
     "output_type": "error",
     "traceback": [
      "\u001b[1;31m---------------------------------------------------------------------------\u001b[0m",
      "\u001b[1;31mTypeError\u001b[0m                                 Traceback (most recent call last)",
      "\u001b[1;32m<ipython-input-10-8c3ff84f7169>\u001b[0m in \u001b[0;36m<module>\u001b[1;34m\u001b[0m\n\u001b[0;32m      1\u001b[0m \u001b[1;32mimport\u001b[0m \u001b[0mos\u001b[0m\u001b[1;33m\u001b[0m\u001b[1;33m\u001b[0m\u001b[0m\n\u001b[0;32m      2\u001b[0m \u001b[0mprint\u001b[0m\u001b[1;33m(\u001b[0m\u001b[0mos\u001b[0m\u001b[1;33m.\u001b[0m\u001b[0mgetcwd\u001b[0m\u001b[1;33m(\u001b[0m\u001b[1;33m)\u001b[0m\u001b[1;33m)\u001b[0m\u001b[1;33m\u001b[0m\u001b[1;33m\u001b[0m\u001b[0m\n\u001b[1;32m----> 3\u001b[1;33m \u001b[0mprint\u001b[0m\u001b[1;33m(\u001b[0m\u001b[0mos\u001b[0m\u001b[1;33m.\u001b[0m\u001b[0mpath\u001b[0m\u001b[1;33m.\u001b[0m\u001b[0mdirname\u001b[0m\u001b[1;33m(\u001b[0m\u001b[1;33m)\u001b[0m\u001b[1;33m)\u001b[0m\u001b[1;33m\u001b[0m\u001b[1;33m\u001b[0m\u001b[0m\n\u001b[0m",
      "\u001b[1;31mTypeError\u001b[0m: dirname() missing 1 required positional argument: 'p'"
     ]
    }
   ],
   "source": [
    "import os\n",
    "print(os.getcwd())\n",
    "print(os.path.dirname(os.getcwd()))"
   ]
  },
  {
   "cell_type": "code",
   "execution_count": null,
   "metadata": {},
   "outputs": [],
   "source": []
  }
 ],
 "metadata": {
  "interpreter": {
   "hash": "abef57d4cb276ccf6d9dd8eacef83b777f02ba106cc191a294e80164464fb620"
  },
  "kernelspec": {
   "display_name": "Python 3.7.11 ('DL')",
   "language": "python",
   "name": "python3"
  },
  "language_info": {
   "codemirror_mode": {
    "name": "ipython",
    "version": 3
   },
   "file_extension": ".py",
   "mimetype": "text/x-python",
   "name": "python",
   "nbconvert_exporter": "python",
   "pygments_lexer": "ipython3",
   "version": "3.7.11"
  },
  "orig_nbformat": 4
 },
 "nbformat": 4,
 "nbformat_minor": 2
}
