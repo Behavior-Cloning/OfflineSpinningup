{
 "cells": [],
 "metadata": {
  "interpreter": {
   "hash": "abef57d4cb276ccf6d9dd8eacef83b777f02ba106cc191a294e80164464fb620"
  },
  "kernelspec": {
   "display_name": "Python 3.7.11 ('DL')",
   "language": "python",
   "name": "python3"
  },
  "language_info": {
   "codemirror_mode": {
    "name": "ipython",
    "version": 3
   },
   "file_extension": ".py",
   "mimetype": "text/x-python",
   "name": "python",
   "nbconvert_exporter": "python",
   "pygments_lexer": "ipython3",
   "version": "3.7.11"
  },
  "orig_nbformat": 4
 },
 "nbformat": 4,
 "nbformat_minor": 2
}
