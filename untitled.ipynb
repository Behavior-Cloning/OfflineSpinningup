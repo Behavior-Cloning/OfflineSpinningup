{
 "cells": [
  {
   "cell_type": "code",
   "execution_count": 1,
   "metadata": {},
   "outputs": [],
   "source": [
    "import numpy as np\n",
    "\n",
    "permutation=np.random.permutation(20)"
   ]
  },
  {
   "cell_type": "code",
   "execution_count": 2,
   "metadata": {},
   "outputs": [
    {
     "data": {
      "text/plain": [
       "array([ 2, 11, 18, 10,  0, 19,  5, 15,  3,  1,  7,  8,  9, 14, 13, 17,  4,\n",
       "        6, 16, 12])"
      ]
     },
     "execution_count": 2,
     "metadata": {},
     "output_type": "execute_result"
    }
   ],
   "source": [
    "permutation"
   ]
  },
  {
   "cell_type": "code",
   "execution_count": null,
   "metadata": {},
   "outputs": [],
   "source": [
    "permutation[2:]"
   ]
  }
 ],
 "metadata": {
  "interpreter": {
   "hash": "1872bbc463814bc39b8ce1fbe3bee7678f9c7a7d3d7323f27a04a6435eaab296"
  },
  "kernelspec": {
   "display_name": "Python 3.6.5 ('trajectory')",
   "language": "python",
   "name": "python3"
  },
  "language_info": {
   "codemirror_mode": {
    "name": "ipython",
    "version": 3
   },
   "file_extension": ".py",
   "mimetype": "text/x-python",
   "name": "python",
   "nbconvert_exporter": "python",
   "pygments_lexer": "ipython3",
   "version": "3.6.5"
  },
  "orig_nbformat": 4
 },
 "nbformat": 4,
 "nbformat_minor": 2
}
