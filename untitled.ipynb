{
 "cells": [
  {
   "cell_type": "code",
   "execution_count": 6,
   "metadata": {},
   "outputs": [],
   "source": [
    "from offlinespinup.utils.logger import *\n",
    "\n",
    "mt=MetaDataHolder()"
   ]
  },
  {
   "cell_type": "code",
   "execution_count": 7,
   "metadata": {},
   "outputs": [],
   "source": [
    "import numpy as np\n",
    "Mat_list=[np.random.randn(7,256,17) for _ in range(2000)]"
   ]
  },
  {
   "cell_type": "code",
   "execution_count": 8,
   "metadata": {},
   "outputs": [
    {
     "name": "stdout",
     "output_type": "stream",
     "text": [
      "-1.6331203469984303e-05 0.9999674029566272 -5.5117584558702735 5.70888559309695\n",
      "np cat performance:\n",
      "0.48525041547314873\n",
      "0.004899440321665475\n"
     ]
    }
   ],
   "source": [
    "import time\n",
    "Perfs=[]\n",
    "for i in range(50):\n",
    "    start_time=time.time()\n",
    "    input=np.concatenate(Mat_list,axis=0)\n",
    "    Mean,Std,Min,Max=np.mean(input),np.std(input),np.min(input),np.max(input)\n",
    "    end_time=time.time()\n",
    "    if i>20:\n",
    "        Perfs.append(end_time-start_time)\n",
    "\n",
    "print(Mean,Std,Min,Max)\n",
    "print(\"np cat performance:\")\n",
    "print(np.mean(Perfs))\n",
    "print(np.std(Perfs))\n"
   ]
  },
  {
   "cell_type": "code",
   "execution_count": 10,
   "metadata": {},
   "outputs": [
    {
     "name": "stdout",
     "output_type": "stream",
     "text": [
      "-1.633120346998433e-05 0.9999674029566269 -5.5117584558702735 5.70888559309695\n",
      "my class performance:\n",
      "0.3872245426835685\n",
      "0.005405347794031471\n"
     ]
    }
   ],
   "source": [
    "mt=MetaDataHolder()\n",
    "Perfs=[]\n",
    "for i in range(50):\n",
    "    start_time=time.time()\n",
    "    for m in Mat_list:\n",
    "        mt.incremental_estimate(m)\n",
    "    Mean,Std,Min,Max=mt.Mean,mt.Std,mt.Min,mt.Max\n",
    "    end_time=time.time()\n",
    "    if i>20:\n",
    "        Perfs.append(end_time-start_time)\n",
    "    mt.reset()\n",
    "\n",
    "print(Mean,Std,Min,Max)\n",
    "print(\"my class performance:\")\n",
    "print(np.mean(Perfs))\n",
    "print(np.std(Perfs))\n",
    "\n"
   ]
  },
  {
   "cell_type": "code",
   "execution_count": 4,
   "metadata": {},
   "outputs": [],
   "source": [
    "\n",
    "mt.incremental_estimate(3)"
   ]
  },
  {
   "cell_type": "code",
   "execution_count": 5,
   "metadata": {},
   "outputs": [
    {
     "name": "stdout",
     "output_type": "stream",
     "text": [
      "1384.9756492100942\n"
     ]
    }
   ],
   "source": [
    "mt.incremental_estimate(1000000.0)\n",
    "print(mt.Mean)"
   ]
  },
  {
   "cell_type": "code",
   "execution_count": 6,
   "metadata": {},
   "outputs": [],
   "source": [
    "import torch\n",
    "\n",
    "loss=torch.rand((20,5)).cuda().sum()\n",
    "\n",
    "mt.reset()\n",
    "mt.incremental_estimate(loss.detach().cpu().item())"
   ]
  },
  {
   "cell_type": "code",
   "execution_count": 7,
   "metadata": {},
   "outputs": [
    {
     "name": "stdout",
     "output_type": "stream",
     "text": [
      "tensor(48.5421, device='cuda:0')\n"
     ]
    }
   ],
   "source": [
    "print(loss)"
   ]
  },
  {
   "cell_type": "code",
   "execution_count": 8,
   "metadata": {},
   "outputs": [
    {
     "name": "stdout",
     "output_type": "stream",
     "text": [
      "48.54214859008789 0.0 48.54214859008789 48.54214859008789\n"
     ]
    }
   ],
   "source": [
    "print(mt.Mean,mt.Std,mt.Min,mt.Max)"
   ]
  },
  {
   "cell_type": "code",
   "execution_count": null,
   "metadata": {},
   "outputs": [],
   "source": []
  }
 ],
 "metadata": {
  "interpreter": {
   "hash": "1872bbc463814bc39b8ce1fbe3bee7678f9c7a7d3d7323f27a04a6435eaab296"
  },
  "kernelspec": {
   "display_name": "Python 3.6.5 ('trajectory')",
   "language": "python",
   "name": "python3"
  },
  "language_info": {
   "codemirror_mode": {
    "name": "ipython",
    "version": 3
   },
   "file_extension": ".py",
   "mimetype": "text/x-python",
   "name": "python",
   "nbconvert_exporter": "python",
   "pygments_lexer": "ipython3",
   "version": "3.6.5"
  },
  "orig_nbformat": 4
 },
 "nbformat": 4,
 "nbformat_minor": 2
}
